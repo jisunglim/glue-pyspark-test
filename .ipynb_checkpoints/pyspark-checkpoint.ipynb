{
 "cells": [
  {
   "cell_type": "code",
   "execution_count": 1,
   "metadata": {},
   "outputs": [
    {
     "name": "stdout",
     "output_type": "stream",
     "text": [
      "Starting Spark application\n"
     ]
    },
    {
     "data": {
      "text/html": [
       "<table>\n",
       "<tr><th>ID</th><th>YARN Application ID</th><th>Kind</th><th>State</th><th>Spark UI</th><th>Driver log</th><th>Current session?</th></tr><tr><td>1</td><td>application_1584491930225_0002</td><td>pyspark</td><td>idle</td><td><a target=\"_blank\" href=\"http://ip-10-0-0-109.ap-northeast-2.compute.internal:20888/proxy/application_1584491930225_0002/\">Link</a></td><td><a target=\"_blank\" href=\"http://ip-10-0-0-204.ap-northeast-2.compute.internal:8042/node/containerlogs/container_1584491930225_0002_01_000001/livy\">Link</a></td><td>✔</td></tr></table>"
      ],
      "text/plain": [
       "<IPython.core.display.HTML object>"
      ]
     },
     "metadata": {},
     "output_type": "display_data"
    },
    {
     "data": {
      "application/vnd.jupyter.widget-view+json": {
       "model_id": "335478f08e1e4e00834435a9f6865528",
       "version_major": 2,
       "version_minor": 0
      },
      "text/plain": [
       "FloatProgress(value=0.0, bar_style='info', description='Progress:', layout=Layout(height='25px', width='50%'),…"
      ]
     },
     "metadata": {},
     "output_type": "display_data"
    },
    {
     "name": "stdout",
     "output_type": "stream",
     "text": [
      "SparkSession available as 'spark'.\n"
     ]
    },
    {
     "data": {
      "application/vnd.jupyter.widget-view+json": {
       "model_id": "8f3b98984af640a686adc4e068a6b5e8",
       "version_major": 2,
       "version_minor": 0
      },
      "text/plain": [
       "FloatProgress(value=0.0, bar_style='info', description='Progress:', layout=Layout(height='25px', width='50%'),…"
      ]
     },
     "metadata": {},
     "output_type": "display_data"
    }
   ],
   "source": [
    "import sys\n",
    "from awsglue.transforms import *\n",
    "from awsglue.utils import getResolvedOptions\n",
    "from pyspark.context import SparkContext\n",
    "from awsglue.context import GlueContext\n",
    "from awsglue.job import Job"
   ]
  },
  {
   "cell_type": "code",
   "execution_count": 2,
   "metadata": {},
   "outputs": [
    {
     "data": {
      "application/vnd.jupyter.widget-view+json": {
       "model_id": "f36590e07bb94f7ca6dba2eb50e14c54",
       "version_major": 2,
       "version_minor": 0
      },
      "text/plain": [
       "FloatProgress(value=0.0, bar_style='info', description='Progress:', layout=Layout(height='25px', width='50%'),…"
      ]
     },
     "metadata": {},
     "output_type": "display_data"
    },
    {
     "name": "stdout",
     "output_type": "stream",
     "text": [
      "/usr/lib64/python3.6/importlib/_bootstrap.py:219: RuntimeWarning: numpy.dtype size changed, may indicate binary incompatibility. Expected 96, got 88\n",
      "  return f(*args, **kwds)\n",
      "/usr/lib64/python3.6/importlib/_bootstrap.py:219: RuntimeWarning: numpy.dtype size changed, may indicate binary incompatibility. Expected 96, got 88\n",
      "  return f(*args, **kwds)"
     ]
    }
   ],
   "source": [
    "import pyspark\n",
    "from pyspark.sql import functions as f\n",
    "from pyspark.sql.types import *\n",
    "from pyspark.sql.window import Window\n",
    "from datetime import datetime, timedelta\n",
    "import numpy as np\n",
    "import pandas as pd"
   ]
  },
  {
   "cell_type": "code",
   "execution_count": 36,
   "metadata": {},
   "outputs": [
    {
     "data": {
      "application/vnd.jupyter.widget-view+json": {
       "model_id": "c932d4c738874892a4f203b75cf8d4b9",
       "version_major": 2,
       "version_minor": 0
      },
      "text/plain": [
       "FloatProgress(value=0.0, bar_style='info', description='Progress:', layout=Layout(height='25px', width='50%'),…"
      ]
     },
     "metadata": {},
     "output_type": "display_data"
    }
   ],
   "source": [
    "from awsglue.utils import getResolvedOptions\n",
    "\n",
    "try:\n",
    "    args = getResolvedOptions(sys.argv,\n",
    "                              ['execution-date',\n",
    "                               'execution-hour'])\n",
    "except:\n",
    "    args = {}\n",
    "    pass\n",
    "\n",
    "execution_date = args.get('execution-date', '2020-03-16')\n",
    "execution_hour = args.get('execution-hour', '09')"
   ]
  },
  {
   "cell_type": "code",
   "execution_count": 3,
   "metadata": {},
   "outputs": [
    {
     "data": {
      "application/vnd.jupyter.widget-view+json": {
       "model_id": "f53bc986fbdc432d9841b42692319f3a",
       "version_major": 2,
       "version_minor": 0
      },
      "text/plain": [
       "FloatProgress(value=0.0, bar_style='info', description='Progress:', layout=Layout(height='25px', width='50%'),…"
      ]
     },
     "metadata": {},
     "output_type": "display_data"
    }
   ],
   "source": [
    "glueContext = GlueContext(SparkContext.getOrCreate())"
   ]
  },
  {
   "cell_type": "code",
   "execution_count": 4,
   "metadata": {},
   "outputs": [
    {
     "data": {
      "application/vnd.jupyter.widget-view+json": {
       "model_id": "c2ac214e68744808ae1cc93459b474b5",
       "version_major": 2,
       "version_minor": 0
      },
      "text/plain": [
       "FloatProgress(value=0.0, bar_style='info', description='Progress:', layout=Layout(height='25px', width='50%'),…"
      ]
     },
     "metadata": {},
     "output_type": "display_data"
    }
   ],
   "source": [
    "# Only for sample data\n",
    "enriched = glueContext.create_dynamic_frame.from_catalog(\n",
    "    database=\"test\", \n",
    "    table_name=\"enriched_events\", \n",
    "    transformation_ctx = \"datasource\", \n",
    "    push_down_predicate = \"loaded_date == '2020-03-16' and loaded_hour == '08'\")"
   ]
  },
  {
   "cell_type": "code",
   "execution_count": 5,
   "metadata": {},
   "outputs": [
    {
     "data": {
      "application/vnd.jupyter.widget-view+json": {
       "model_id": "0c23a93d5c464bc68abe286acea812a5",
       "version_major": 2,
       "version_minor": 0
      },
      "text/plain": [
       "FloatProgress(value=0.0, bar_style='info', description='Progress:', layout=Layout(height='25px', width='50%'),…"
      ]
     },
     "metadata": {},
     "output_type": "display_data"
    },
    {
     "name": "stdout",
     "output_type": "stream",
     "text": [
      "Count: 1426"
     ]
    }
   ],
   "source": [
    "print(\"Count: \" + str(enriched.count()))"
   ]
  },
  {
   "cell_type": "code",
   "execution_count": 6,
   "metadata": {},
   "outputs": [
    {
     "data": {
      "application/vnd.jupyter.widget-view+json": {
       "model_id": "c5b6085c8fa24c15a3a931adac0660c5",
       "version_major": 2,
       "version_minor": 0
      },
      "text/plain": [
       "FloatProgress(value=0.0, bar_style='info', description='Progress:', layout=Layout(height='25px', width='50%'),…"
      ]
     },
     "metadata": {},
     "output_type": "display_data"
    },
    {
     "name": "stdout",
     "output_type": "stream",
     "text": [
      "DataFrame[app_id: string, platform: string, etl_tstamp: string, collector_tstamp: string, event: string, event_id: string, name_tracker: string, v_tracker: string, v_collector: string, v_etl: string, user_id: string, user_ipaddress: string, user_fingerprint: string, domain_userid: string, network_userid: string, geo_country: string, geo_region: string, geo_city: string, geo_zipcode: string, geo_latitude: string, geo_longitude: string, geo_region_name: string, ip_isp: string, ip_organization: string, ip_domain: string, ip_netspeed: string, page_url: string, page_title: string, page_referrer: string, page_urlscheme: string, page_urlhost: string, page_urlport: int, page_urlpath: string, page_urlquery: string, page_urlfragment: string, refr_urlscheme: string, refr_urlhost: string, refr_urlpath: string, refr_urlquery: string, refr_urlfragment: string, refr_medium: string, refr_source: string, refr_term: string, mkt_medium: string, mkt_source: string, mkt_term: string, mkt_content: string, mkt_campaign: string, contexts: string, se_category: string, se_action: string, se_label: string, se_property: string, se_value: string, unstruct_event: string, tr_orderid: string, tr_affiliation: string, tr_total: string, tr_tax: string, tr_shipping: string, tr_city: string, tr_state: string, tr_country: string, ti_orderid: string, ti_sku: string, ti_name: string, ti_category: string, ti_price: string, useragent: string, br_name: string, br_family: string, br_version: string, br_type: string, br_renderengine: string, br_lang: string, br_features_pdf: string, br_features_flash: string, br_features_java: string, br_features_director: string, br_features_quicktime: string, br_features_realplayer: string, br_features_windowsmedia: string, br_features_gears: string, br_features_silverlight: string, br_cookies: string, br_colordepth: string, os_name: string, os_family: string, os_manufacturer: string, os_timezone: string, dvce_type: string, dvce_ismobile: string, doc_charset: string, tr_currency: string, tr_total_base: string, tr_tax_base: string, tr_shipping_base: string, ti_currency: string, ti_price_base: string, base_currency: string, geo_timezone: string, mkt_clickid: string, mkt_network: string, etl_tags: string, refr_domain_userid: string, derived_contexts: string, domain_sessionid: string, derived_tstamp: string, event_vendor: string, event_name: string, event_format: string, event_version: string, event_fingerprint: string, loaded_date: string, loaded_hour: string, dvce_tstamp: string, dvce_sent_tstamp: string, refr_urlport: int]"
     ]
    }
   ],
   "source": [
    "enriched_df = enriched.toDF().dropDuplicates(['event_id', 'event_fingerprint'])\n",
    "enriched_df.cache()"
   ]
  },
  {
   "cell_type": "code",
   "execution_count": 7,
   "metadata": {},
   "outputs": [
    {
     "data": {
      "application/vnd.jupyter.widget-view+json": {
       "model_id": "8d63c3cd92cf4d45a2bb904676bd2cd1",
       "version_major": 2,
       "version_minor": 0
      },
      "text/plain": [
       "FloatProgress(value=0.0, bar_style='info', description='Progress:', layout=Layout(height='25px', width='50%'),…"
      ]
     },
     "metadata": {},
     "output_type": "display_data"
    },
    {
     "name": "stdout",
     "output_type": "stream",
     "text": [
      "DataFrame[app_id: string, platform: string, etl_tstamp: string, collector_tstamp: string, event: string, event_id: string, name_tracker: string, v_tracker: string, v_collector: string, v_etl: string, user_id: string, user_ipaddress: string, user_fingerprint: string, domain_userid: string, network_userid: string, geo_country: string, geo_region: string, geo_city: string, geo_zipcode: string, geo_latitude: string, geo_longitude: string, geo_region_name: string, ip_isp: string, ip_organization: string, ip_domain: string, ip_netspeed: string, page_url: string, page_title: string, page_referrer: string, page_urlscheme: string, page_urlhost: string, page_urlport: int, page_urlpath: string, page_urlquery: string, page_urlfragment: string, refr_urlscheme: string, refr_urlhost: string, refr_urlpath: string, refr_urlquery: string, refr_urlfragment: string, refr_medium: string, refr_source: string, refr_term: string, mkt_medium: string, mkt_source: string, mkt_term: string, mkt_content: string, mkt_campaign: string, contexts: string, se_category: string, se_action: string, se_label: string, se_property: string, se_value: string, unstruct_event: string, tr_orderid: string, tr_affiliation: string, tr_total: string, tr_tax: string, tr_shipping: string, tr_city: string, tr_state: string, tr_country: string, ti_orderid: string, ti_sku: string, ti_name: string, ti_category: string, ti_price: string, useragent: string, br_name: string, br_family: string, br_version: string, br_type: string, br_renderengine: string, br_lang: string, br_features_pdf: string, br_features_flash: string, br_features_java: string, br_features_director: string, br_features_quicktime: string, br_features_realplayer: string, br_features_windowsmedia: string, br_features_gears: string, br_features_silverlight: string, br_cookies: string, br_colordepth: string, os_name: string, os_family: string, os_manufacturer: string, os_timezone: string, dvce_type: string, dvce_ismobile: string, doc_charset: string, tr_currency: string, tr_total_base: string, tr_tax_base: string, tr_shipping_base: string, ti_currency: string, ti_price_base: string, base_currency: string, geo_timezone: string, mkt_clickid: string, mkt_network: string, etl_tags: string, refr_domain_userid: string, derived_contexts: string, domain_sessionid: string, derived_tstamp: string, event_vendor: string, event_name: string, event_format: string, event_version: string, event_fingerprint: string, loaded_date: string, loaded_hour: string, dvce_tstamp: string, dvce_sent_tstamp: string, refr_urlport: int]"
     ]
    }
   ],
   "source": [
    "#\n",
    "# processing ga data\n",
    "#\n",
    "ga_df = enriched_df.filter(f.col('event_vendor') == 'com.google.analytics.measurement-protocol')\n",
    "ga_df.cache()"
   ]
  },
  {
   "cell_type": "code",
   "execution_count": 8,
   "metadata": {},
   "outputs": [
    {
     "data": {
      "application/vnd.jupyter.widget-view+json": {
       "model_id": "8bbae14604f7481894177a25031d7971",
       "version_major": 2,
       "version_minor": 0
      },
      "text/plain": [
       "FloatProgress(value=0.0, bar_style='info', description='Progress:', layout=Layout(height='25px', width='50%'),…"
      ]
     },
     "metadata": {},
     "output_type": "display_data"
    }
   ],
   "source": [
    "_schema = StructType([\n",
    "    StructField('documentLocationUrl', StringType(), True),\n",
    "    StructField('documentHostName', StringType(), True),\n",
    "    StructField('documentPath', StringType(), True),\n",
    "    StructField('documentTitle', StringType(), True),\n",
    "    StructField('category', StringType(), True),\n",
    "    StructField('action', StringType(), True),\n",
    "    StructField('label', StringType(), True),\n",
    "    StructField('value', StringType(), True),\n",
    "    StructField('userTimingCategory', StringType(), True),\n",
    "    StructField('userTimingVariableName', StringType(), True),\n",
    "    StructField('userTimingTime', StringType(), True),\n",
    "    StructField('userTimingLabel', StringType(), True),\n",
    "    StructField('pageLoadTime', StringType(), True),\n",
    "    StructField('dnsTime', StringType(), True),\n",
    "    StructField('pageDownloadTime', StringType(), True),\n",
    "    StructField('redirectResponseTime', StringType(), True),\n",
    "    StructField('tcpConnectTime', StringType(), True),\n",
    "    StructField('serverResponseTime', StringType(), True),\n",
    "    StructField('domInteractiveTime', StringType(), True),\n",
    "    StructField('contentLoadTime', StringType(), True),])\n",
    "\n",
    "schema_ue = StructType([\n",
    "    StructField('schema', StringType(), True),\n",
    "    StructField('data', StructType([\n",
    "        StructField('schema', StringType(), True),\n",
    "        StructField('data', _schema)\n",
    "    ]))\n",
    "])"
   ]
  },
  {
   "cell_type": "code",
   "execution_count": 9,
   "metadata": {},
   "outputs": [
    {
     "data": {
      "application/vnd.jupyter.widget-view+json": {
       "model_id": "888d33e45760424fac6feb17a2afa4c9",
       "version_major": 2,
       "version_minor": 0
      },
      "text/plain": [
       "FloatProgress(value=0.0, bar_style='info', description='Progress:', layout=Layout(height='25px', width='50%'),…"
      ]
     },
     "metadata": {},
     "output_type": "display_data"
    }
   ],
   "source": [
    "active_columns = ['event_id', 'event_fingerprint', 'etl_tstamp', 'collector_tstamp', 'derived_tstamp', 'loaded_date', 'loaded_hour', 'v_tracker', 'v_collector', 'v_etl', 'user_ipaddress', 'network_userid', 'page_url', 'page_title', 'page_referrer', 'page_urlscheme', 'page_urlhost', 'page_urlport', 'page_urlpath', 'page_urlquery', 'page_urlfragment', 'refr_urlscheme', 'refr_urlhost', 'refr_urlport', 'refr_urlpath', 'refr_urlquery', 'refr_urlfragment', 'refr_medium', 'refr_source', 'refr_term', 'mkt_medium', 'mkt_source', 'mkt_term', 'mkt_content', 'mkt_campaign', 'useragent', 'br_lang', 'br_features_java', 'br_colordepth', 'doc_charset']"
   ]
  },
  {
   "cell_type": "code",
   "execution_count": 10,
   "metadata": {},
   "outputs": [
    {
     "data": {
      "application/vnd.jupyter.widget-view+json": {
       "model_id": "aed455c1e3c64345953179f43a31e0f0",
       "version_major": 2,
       "version_minor": 0
      },
      "text/plain": [
       "FloatProgress(value=0.0, bar_style='info', description='Progress:', layout=Layout(height='25px', width='50%'),…"
      ]
     },
     "metadata": {},
     "output_type": "display_data"
    }
   ],
   "source": [
    "# unstruct event data\n",
    "ue_df = ga_df.withColumn('ue_json', f.from_json(f.col('unstruct_event'), schema_ue)).select(active_columns + ['unstruct_event', 'ue_json'])\n",
    "ue_df = ue_df.select(active_columns + ['ue_json.data.schema'] + ['ue_json.data.data.'+column.name for column in _schema])\n",
    "ue_df = ue_df.withColumn('event_type_ga', f.split(f.col('schema'),'/').getItem(1))\n",
    "\n",
    "\n",
    "ue_df = ue_df.withColumnRenamed('documentLocationUrl', 'document_location_url')\n",
    "ue_df = ue_df.withColumnRenamed('documentHostName', 'document_host_name')\n",
    "ue_df = ue_df.withColumnRenamed('documentPath', 'document_path')\n",
    "ue_df = ue_df.withColumnRenamed('documentTitle', 'document_title')\n",
    "ue_df = ue_df.withColumnRenamed('category', 'category')\n",
    "ue_df = ue_df.withColumnRenamed('action', 'action')\n",
    "ue_df = ue_df.withColumnRenamed('label', 'label')\n",
    "ue_df = ue_df.withColumnRenamed('value', 'value')\n",
    "ue_df = ue_df.withColumnRenamed('userTimingCategory', 'user_timing_category')\n",
    "ue_df = ue_df.withColumnRenamed('userTimingVariableName', 'user_timing_variable_name')\n",
    "ue_df = ue_df.withColumnRenamed('userTimingTime', 'user_timing_time')\n",
    "ue_df = ue_df.withColumnRenamed('userTimingLabel', 'user_timing_label')\n",
    "ue_df = ue_df.withColumnRenamed('pageLoadTime', 'page_load_time')\n",
    "ue_df = ue_df.withColumnRenamed('dnsTime', 'dns_time')\n",
    "ue_df = ue_df.withColumnRenamed('pageDownloadTime', 'page_download_time')\n",
    "ue_df = ue_df.withColumnRenamed('redirectResponseTime', 'redirect_response_time')\n",
    "ue_df = ue_df.withColumnRenamed('tcpConnectTime', 'tcp_connect_time')\n",
    "ue_df = ue_df.withColumnRenamed('serverResponseTime', 'server_response_time')\n",
    "ue_df = ue_df.withColumnRenamed('domInteractiveTime', 'dom_interactive_time')\n",
    "ue_df = ue_df.withColumnRenamed('contentLoadTime', 'content_load_time')\n",
    "\n",
    "# ue_df.count()"
   ]
  },
  {
   "cell_type": "code",
   "execution_count": 11,
   "metadata": {},
   "outputs": [
    {
     "data": {
      "application/vnd.jupyter.widget-view+json": {
       "model_id": "0355b0d4e89b40579b9794eb67398f1a",
       "version_major": 2,
       "version_minor": 0
      },
      "text/plain": [
       "FloatProgress(value=0.0, bar_style='info', description='Progress:', layout=Layout(height='25px', width='50%'),…"
      ]
     },
     "metadata": {},
     "output_type": "display_data"
    }
   ],
   "source": [
    "ue_df = ue_df.withColumn('etl_tstamp', f.col('etl_tstamp').cast(TimestampType()))\n",
    "ue_df = ue_df.withColumn('collector_tstamp', f.col('collector_tstamp').cast(TimestampType()))\n",
    "ue_df = ue_df.withColumn('derived_tstamp', f.col('derived_tstamp').cast(TimestampType()))"
   ]
  },
  {
   "cell_type": "code",
   "execution_count": 12,
   "metadata": {},
   "outputs": [
    {
     "data": {
      "application/vnd.jupyter.widget-view+json": {
       "model_id": "b8b9a47cb0764a4796653796912f43f4",
       "version_major": 2,
       "version_minor": 0
      },
      "text/plain": [
       "FloatProgress(value=0.0, bar_style='info', description='Progress:', layout=Layout(height='25px', width='50%'),…"
      ]
     },
     "metadata": {},
     "output_type": "display_data"
    }
   ],
   "source": [
    "ue_df = ue_df.withColumn('event_date', f.to_date('derived_tstamp').cast(StringType()))\n",
    "ue_df = ue_df.withColumn('event_hour', f.format_string(\"%02d\", f.hour('derived_tstamp')))"
   ]
  },
  {
   "cell_type": "code",
   "execution_count": 13,
   "metadata": {},
   "outputs": [
    {
     "data": {
      "application/vnd.jupyter.widget-view+json": {
       "model_id": "22cb92fef5ea40fea6f0be6ae041b04e",
       "version_major": 2,
       "version_minor": 0
      },
      "text/plain": [
       "FloatProgress(value=0.0, bar_style='info', description='Progress:', layout=Layout(height='25px', width='50%'),…"
      ]
     },
     "metadata": {},
     "output_type": "display_data"
    }
   ],
   "source": [
    "schema_contexts = StructType(\n",
    "    [\n",
    "        StructField('schema', StringType(), True),\n",
    "        StructField('data', ArrayType(StringType()), True)\n",
    "    ]\n",
    ")\n",
    "\n",
    "schema_contexts_data = StructType(\n",
    "    [\n",
    "        StructField('schema', StringType(), True),\n",
    "        StructField('data', StringType(), True)\n",
    "    ]\n",
    ")"
   ]
  },
  {
   "cell_type": "code",
   "execution_count": 14,
   "metadata": {},
   "outputs": [
    {
     "data": {
      "application/vnd.jupyter.widget-view+json": {
       "model_id": "506a65f85a184d2181ac60e2ad6c51f6",
       "version_major": 2,
       "version_minor": 0
      },
      "text/plain": [
       "FloatProgress(value=0.0, bar_style='info', description='Progress:', layout=Layout(height='25px', width='50%'),…"
      ]
     },
     "metadata": {},
     "output_type": "display_data"
    }
   ],
   "source": [
    "# Get contexts_df from events\n",
    "contexts_df = ga_df.withColumn('contexts_json', f.from_json(f.col('contexts'), schema_contexts)).select('event_id', 'event_fingerprint', 'contexts', 'contexts_json')\n",
    "contexts_df = contexts_df.select('event_id', 'event_fingerprint', f.explode('contexts_json.data').alias('datum')).withColumn('datum', f.from_json(f.col('datum'), schema_contexts_data)).select('event_id', 'event_fingerprint', 'datum.schema', 'datum.data')\n",
    "\n",
    "contexts_df.cache()\n",
    "\n",
    "# Split them based on its schema\n",
    "contexts_df_by_schemas = {schema[0] : contexts_df.filter(f.col('schema') == schema[0]).drop('schema') for schema in contexts_df.select('schema').distinct().collect()}"
   ]
  },
  {
   "cell_type": "code",
   "execution_count": 15,
   "metadata": {},
   "outputs": [
    {
     "data": {
      "application/vnd.jupyter.widget-view+json": {
       "model_id": "398bdad4c98140ac9b1c22c5e0b88b38",
       "version_major": 2,
       "version_minor": 0
      },
      "text/plain": [
       "FloatProgress(value=0.0, bar_style='info', description='Progress:', layout=Layout(height='25px', width='50%'),…"
      ]
     },
     "metadata": {},
     "output_type": "display_data"
    }
   ],
   "source": [
    "# UNDOCUMENTED: com.google.analytics/undocumented/jsonschema/1-0-0\n",
    "#\n",
    "#   a    : Random number used to link Google Analytics to Adsense\n",
    "#   jid  : JoinID (binding the GA cookie to Double­Click cookie)\n",
    "#   gjid : ??\n",
    "\n",
    "schema_name = 'iglu:com.google.analytics/undocumented/jsonschema/1-0-0'\n",
    "\n",
    "if schema_name in contexts_df_by_schemas:\n",
    "    _df = contexts_df_by_schemas[schema_name]\n",
    "    _schema = StructType([\n",
    "        StructField('a', StringType(), True),\n",
    "        StructField('jid', StringType(), True),\n",
    "        StructField('gjid', StringType(), True)])\n",
    "\n",
    "    _df = _df.withColumn('data', f.from_json(f.col('data'), _schema)).select(['event_id', 'event_fingerprint'] + ['data.'+column.name for column in _schema])\n",
    "    ue_df = ue_df.join(_df, ['event_id', 'event_fingerprint'], how='left')\n",
    "else:\n",
    "    ue_df = ue_df.withColumn('a', f.lit(None).cast(StringType()))\n",
    "    ue_df = ue_df.withColumn('jid', f.lit(None).cast(StringType()))\n",
    "    ue_df = ue_df.withColumn('gjid', f.lit(None).cast(StringType()))"
   ]
  },
  {
   "cell_type": "code",
   "execution_count": 16,
   "metadata": {},
   "outputs": [
    {
     "data": {
      "application/vnd.jupyter.widget-view+json": {
       "model_id": "58a01a1e334a4304a1d743f0233c88a8",
       "version_major": 2,
       "version_minor": 0
      },
      "text/plain": [
       "FloatProgress(value=0.0, bar_style='info', description='Progress:', layout=Layout(height='25px', width='50%'),…"
      ]
     },
     "metadata": {},
     "output_type": "display_data"
    }
   ],
   "source": [
    "# PRIVATE: com.google.analytics/private/jsonschema/1-0-0\n",
    "#\n",
    "# v   : SDK version number\n",
    "# s   : Hit sequence - increments each time an event (inc pageview)\n",
    "# u   : Verification code generated by GA analytics.js\n",
    "# gid : analytics.js cookie used to distinguish users (24h lifetime)\n",
    "# r   : seems to be linked to utmredir\n",
    "\n",
    "schema_name = 'iglu:com.google.analytics/private/jsonschema/1-0-0'\n",
    "\n",
    "if schema_name in contexts_df_by_schemas:\n",
    "    _df = contexts_df_by_schemas[schema_name]\n",
    "    _schema = StructType([\n",
    "        StructField('v', StringType(), True),\n",
    "        StructField('s', StringType(), True),\n",
    "        StructField('u', StringType(), True),\n",
    "        StructField('gid', StringType(), True),\n",
    "        StructField('r', StringType(), True),])\n",
    "\n",
    "    _df = _df.withColumn('data', f.from_json(f.col('data'), _schema)).select(['event_id', 'event_fingerprint'] + ['data.'+column.name for column in _schema])\n",
    "    ue_df = ue_df.join(_df, ['event_id', 'event_fingerprint'], how='left')\n",
    "else:\n",
    "    ue_df = ue_df.withColumn('v', f.lit(None).cast(StringType()))\n",
    "    ue_df = ue_df.withColumn('s', f.lit(None).cast(StringType()))\n",
    "    ue_df = ue_df.withColumn('u', f.lit(None).cast(StringType()))\n",
    "    ue_df = ue_df.withColumn('gid', f.lit(None).cast(StringType()))\n",
    "    ue_df = ue_df.withColumn('r', f.lit(None).cast(StringType()))"
   ]
  },
  {
   "cell_type": "code",
   "execution_count": 17,
   "metadata": {},
   "outputs": [
    {
     "data": {
      "application/vnd.jupyter.widget-view+json": {
       "model_id": "45bf0a7b294a4bc78578a8d9dca2b26c",
       "version_major": 2,
       "version_minor": 0
      },
      "text/plain": [
       "FloatProgress(value=0.0, bar_style='info', description='Progress:', layout=Layout(height='25px', width='50%'),…"
      ]
     },
     "metadata": {},
     "output_type": "display_data"
    }
   ],
   "source": [
    "# GENERAL: com.google.analytics.measurement-protocol/general/jsonschema/1-0-0\n",
    "#\n",
    "# protocol_version : \n",
    "# tracking_id      : \n",
    "# anonymize_ip     : \n",
    "# data_source      : \n",
    "# queue_time       : \n",
    "# cache_buster     : \n",
    "\n",
    "schema_name = 'iglu:com.google.analytics.measurement-protocol/general/jsonschema/1-0-0'\n",
    "\n",
    "if schema_name in contexts_df_by_schemas:\n",
    "    _df = contexts_df_by_schemas[schema_name]\n",
    "    _schema = StructType([\n",
    "        StructField('protocolVersion', StringType(), True),\n",
    "        StructField('trackingId', StringType(), True),\n",
    "        StructField('anonymizeIp', StringType(), True),\n",
    "        StructField('dataSource', StringType(), True),\n",
    "        StructField('queueTime', StringType(), True),\n",
    "        StructField('cacheBuster', StringType(), True),])\n",
    "\n",
    "    _df = _df.withColumn('data', f.from_json(f.col('data'), _schema)).select(['event_id', 'event_fingerprint'] + ['data.'+column.name for column in _schema])\n",
    "    \n",
    "    _df = _df.withColumnRenamed('protocolVersion', 'protocol_version')\n",
    "    _df = _df.withColumnRenamed('trackingId', 'tracking_id')\n",
    "    _df = _df.withColumnRenamed('anonymizeIp', 'anonymize_ip')\n",
    "    _df = _df.withColumnRenamed('dataSource', 'data_source')\n",
    "    _df = _df.withColumnRenamed('queueTime', 'queue_time')\n",
    "    _df = _df.withColumnRenamed('cacheBuster', 'cache_buster')\n",
    "    \n",
    "    ue_df = ue_df.join(_df, ['event_id', 'event_fingerprint'], how='left')\n",
    "else:\n",
    "    ue_df = ue_df.withColumn('protocol_version', f.lit(None).cast(StringType()))\n",
    "    ue_df = ue_df.withColumn('tracking_id', f.lit(None).cast(StringType()))\n",
    "    ue_df = ue_df.withColumn('anonymize_ip', f.lit(None).cast(StringType()))\n",
    "    ue_df = ue_df.withColumn('data_source', f.lit(None).cast(StringType()))\n",
    "    ue_df = ue_df.withColumn('queue_time', f.lit(None).cast(StringType()))\n",
    "    ue_df = ue_df.withColumn('cache_buster', f.lit(None).cast(StringType()))"
   ]
  },
  {
   "cell_type": "code",
   "execution_count": 18,
   "metadata": {},
   "outputs": [
    {
     "data": {
      "application/vnd.jupyter.widget-view+json": {
       "model_id": "dcf52c60ab3e468abb79bcf9895941d6",
       "version_major": 2,
       "version_minor": 0
      },
      "text/plain": [
       "FloatProgress(value=0.0, bar_style='info', description='Progress:', layout=Layout(height='25px', width='50%'),…"
      ]
     },
     "metadata": {},
     "output_type": "display_data"
    }
   ],
   "source": [
    "# USER: com.google.analytics.measurement-protocol/user/jsonschema/1-0-0\n",
    "#\n",
    "# client_id : \n",
    "# user_id   : \n",
    "\n",
    "schema_name = 'iglu:com.google.analytics.measurement-protocol/user/jsonschema/1-0-0'\n",
    "\n",
    "if schema_name in contexts_df_by_schemas:\n",
    "    _df = contexts_df_by_schemas[schema_name]\n",
    "    _schema = StructType([\n",
    "        StructField('clientId', StringType(), True),\n",
    "        StructField('userId', StringType(), True),])\n",
    "\n",
    "    _df = _df.withColumn('data', f.from_json(f.col('data'), _schema)).select(['event_id', 'event_fingerprint'] + ['data.'+column.name for column in _schema])\n",
    "    \n",
    "    _df = _df.withColumnRenamed('clientId', 'client_id')\n",
    "    _df = _df.withColumnRenamed('userId', 'user_id')\n",
    "    \n",
    "    ue_df = ue_df.join(_df, ['event_id', 'event_fingerprint'], how='left')\n",
    "else:\n",
    "    ue_df = ue_df.withColumn('client_id', f.lit(None).cast(StringType()))\n",
    "    ue_df = ue_df.withColumn('user_id', f.lit(None).cast(StringType()))"
   ]
  },
  {
   "cell_type": "code",
   "execution_count": 19,
   "metadata": {},
   "outputs": [
    {
     "data": {
      "application/vnd.jupyter.widget-view+json": {
       "model_id": "ecfb02a65c8148f5a5d5c9ff16267158",
       "version_major": 2,
       "version_minor": 0
      },
      "text/plain": [
       "FloatProgress(value=0.0, bar_style='info', description='Progress:', layout=Layout(height='25px', width='50%'),…"
      ]
     },
     "metadata": {},
     "output_type": "display_data"
    }
   ],
   "source": [
    "# SESSION: com.google.analytics.measurement-protocol/session/jsonschema/1-0-0\n",
    "#\n",
    "# session_control       : \n",
    "# ip_override           : \n",
    "# user_agent_override   :\n",
    "# geographical_override :\n",
    "\n",
    "schema_name = 'iglu:com.google.analytics.measurement-protocol/session/jsonschema/1-0-0'\n",
    "\n",
    "if schema_name in contexts_df_by_schemas:\n",
    "    _df = contexts_df_by_schemas[schema_name]\n",
    "    _schema = StructType([\n",
    "        StructField('sessionControl', StringType(), True),\n",
    "        StructField('ipOverride', StringType(), True),\n",
    "        StructField('userAgentOverride', StringType(), True),\n",
    "        StructField('geographicalOverride', StringType(), True),])\n",
    "\n",
    "    _df = _df.withColumn('data', f.from_json(f.col('data'), _schema)).select(['event_id', 'event_fingerprint'] + ['data.'+column.name for column in _schema])\n",
    "    \n",
    "    _df = _df.withColumnRenamed('sessionControl', 'session_control')\n",
    "    _df = _df.withColumnRenamed('ipOverride', 'ip_override')\n",
    "    _df = _df.withColumnRenamed('userAgentOverride', 'user_agent_override')\n",
    "    _df = _df.withColumnRenamed('geographicalOverride', 'geographical_override')\n",
    "    \n",
    "    ue_df = ue_df.join(_df, ['event_id', 'event_fingerprint'], how='left')\n",
    "else:\n",
    "    ue_df = ue_df.withColumn('session_control', f.lit(None).cast(StringType()))\n",
    "    ue_df = ue_df.withColumn('ip_override', f.lit(None).cast(StringType()))\n",
    "    ue_df = ue_df.withColumn('user_agent_override', f.lit(None).cast(StringType()))\n",
    "    ue_df = ue_df.withColumn('geographical_override', f.lit(None).cast(StringType()))"
   ]
  },
  {
   "cell_type": "code",
   "execution_count": 20,
   "metadata": {},
   "outputs": [
    {
     "data": {
      "application/vnd.jupyter.widget-view+json": {
       "model_id": "71c4cbce6d4840dfb9492e191daa229b",
       "version_major": 2,
       "version_minor": 0
      },
      "text/plain": [
       "FloatProgress(value=0.0, bar_style='info', description='Progress:', layout=Layout(height='25px', width='50%'),…"
      ]
     },
     "metadata": {},
     "output_type": "display_data"
    }
   ],
   "source": [
    "# TRAFFIC_SOURCE: com.google.analytics.measurement-protocol/traffic_source/jsonschema/1-0-0\n",
    "\n",
    "schema_name = 'iglu:com.google.analytics.measurement-protocol/traffic_source/jsonschema/1-0-0'\n",
    "\n",
    "if schema_name in contexts_df_by_schemas:\n",
    "    _df = contexts_df_by_schemas[schema_name]\n",
    "    _schema = StructType([\n",
    "        StructField('documentReferrer', StringType(), True),\n",
    "        StructField('campaignName', StringType(), True),\n",
    "        StructField('campaignSource', StringType(), True),\n",
    "        StructField('campaignMedium', StringType(), True),\n",
    "        StructField('campaignKeyword', StringType(), True),\n",
    "        StructField('campaignContent', StringType(), True),\n",
    "        StructField('campaignId', StringType(), True),\n",
    "        StructField('googleAdwordsId', StringType(), True),\n",
    "        StructField('googleDisplayAdsId', StringType(), True),])\n",
    "\n",
    "    _df = _df.withColumn('data', f.from_json(f.col('data'), _schema)).select(['event_id', 'event_fingerprint'] + ['data.'+column.name for column in _schema])\n",
    "    \n",
    "    _df = _df.withColumnRenamed('documentReferrer', 'document_referrer')\n",
    "    _df = _df.withColumnRenamed('campaignName', 'campaign_name')\n",
    "    _df = _df.withColumnRenamed('campaignSource', 'campaign_source')\n",
    "    _df = _df.withColumnRenamed('campaignMedium', 'campaign_medium')\n",
    "    _df = _df.withColumnRenamed('campaignKeyword', 'campaign_keyword')\n",
    "    _df = _df.withColumnRenamed('campaignContent', 'campaign_content')\n",
    "    _df = _df.withColumnRenamed('campaignId', 'campaign_id')\n",
    "    _df = _df.withColumnRenamed('googleAdwordsId', 'google_adwords_id')\n",
    "    _df = _df.withColumnRenamed('googleDisplayAdsId', 'google_display_ads_id')\n",
    "    \n",
    "    ue_df = ue_df.join(_df, ['event_id', 'event_fingerprint'], how='left')\n",
    "else:\n",
    "    ue_df = ue_df.withColumn('document_referrer', f.lit(None).cast(StringType()))\n",
    "    ue_df = ue_df.withColumn('campaign_name', f.lit(None).cast(StringType()))\n",
    "    ue_df = ue_df.withColumn('campaign_source', f.lit(None).cast(StringType()))\n",
    "    ue_df = ue_df.withColumn('campaign_medium', f.lit(None).cast(StringType()))\n",
    "    ue_df = ue_df.withColumn('campaign_keyword', f.lit(None).cast(StringType()))\n",
    "    ue_df = ue_df.withColumn('campaign_content', f.lit(None).cast(StringType()))\n",
    "    ue_df = ue_df.withColumn('campaign_id', f.lit(None).cast(StringType()))\n",
    "    ue_df = ue_df.withColumn('google_adwords_id', f.lit(None).cast(StringType()))\n",
    "    ue_df = ue_df.withColumn('google_display_ads_id', f.lit(None).cast(StringType()))"
   ]
  },
  {
   "cell_type": "code",
   "execution_count": 21,
   "metadata": {},
   "outputs": [
    {
     "data": {
      "application/vnd.jupyter.widget-view+json": {
       "model_id": "e6f02d315a7a404bbc9c2fc91abf3d5c",
       "version_major": 2,
       "version_minor": 0
      },
      "text/plain": [
       "FloatProgress(value=0.0, bar_style='info', description='Progress:', layout=Layout(height='25px', width='50%'),…"
      ]
     },
     "metadata": {},
     "output_type": "display_data"
    }
   ],
   "source": [
    "# SYSTEM_INFO: com.google.analytics.measurement-protocol/system_info/jsonschema/1-0-0\n",
    "\n",
    "schema_name = 'iglu:com.google.analytics.measurement-protocol/system_info/jsonschema/1-0-0'\n",
    "\n",
    "if schema_name in contexts_df_by_schemas:\n",
    "    _df = contexts_df_by_schemas[schema_name]\n",
    "    _schema = StructType([\n",
    "        StructField('screenResolution', StringType(), True),\n",
    "        StructField('viewportSize', StringType(), True),\n",
    "        StructField('documentEncoding', StringType(), True),\n",
    "        StructField('screenColors', StringType(), True),\n",
    "        StructField('userLanguage', StringType(), True),\n",
    "        StructField('javaEnabled', StringType(), True),\n",
    "        StructField('flashVersion', StringType(), True),])\n",
    "\n",
    "    _df = _df.withColumn('data', f.from_json(f.col('data'), _schema)).select(['event_id', 'event_fingerprint'] + ['data.'+column.name for column in _schema])\n",
    "    \n",
    "    _df = _df.withColumnRenamed('screenResolution', 'screen_resolution')\n",
    "    _df = _df.withColumnRenamed('viewportSize', 'viewport_size')\n",
    "    _df = _df.withColumnRenamed('documentEncoding', 'document_encoding')\n",
    "    _df = _df.withColumnRenamed('screenColors', 'screen_colors')\n",
    "    _df = _df.withColumnRenamed('userLanguage', 'user_language')\n",
    "    _df = _df.withColumnRenamed('javaEnabled', 'java_enabled')\n",
    "    _df = _df.withColumnRenamed('flashVersion', 'flash_version')\n",
    "\n",
    "    ue_df = ue_df.join(_df, ['event_id', 'event_fingerprint'], how='left')\n",
    "else:\n",
    "    ue_df = ue_df.withColumn('screen_resolution', f.lit(None).cast(StringType()))\n",
    "    ue_df = ue_df.withColumn('viewport_size', f.lit(None).cast(StringType()))\n",
    "    ue_df = ue_df.withColumn('document_encoding', f.lit(None).cast(StringType()))\n",
    "    ue_df = ue_df.withColumn('screen_colors', f.lit(None).cast(StringType()))\n",
    "    ue_df = ue_df.withColumn('user_language', f.lit(None).cast(StringType()))\n",
    "    ue_df = ue_df.withColumn('java_enabled', f.lit(None).cast(StringType()))\n",
    "    ue_df = ue_df.withColumn('flash_version', f.lit(None).cast(StringType()))"
   ]
  },
  {
   "cell_type": "code",
   "execution_count": 22,
   "metadata": {},
   "outputs": [
    {
     "data": {
      "application/vnd.jupyter.widget-view+json": {
       "model_id": "dc311429c3d04bc288d6930db0f8908e",
       "version_major": 2,
       "version_minor": 0
      },
      "text/plain": [
       "FloatProgress(value=0.0, bar_style='info', description='Progress:', layout=Layout(height='25px', width='50%'),…"
      ]
     },
     "metadata": {},
     "output_type": "display_data"
    }
   ],
   "source": [
    "# HIT: com.google.analytics.measurement-protocol/hit/jsonschema/1-0-0\n",
    "\n",
    "schema_name = 'iglu:com.google.analytics.measurement-protocol/hit/jsonschema/1-0-0'\n",
    "\n",
    "if schema_name in contexts_df_by_schemas:\n",
    "    _df = contexts_df_by_schemas[schema_name]\n",
    "    _schema = StructType([\n",
    "        StructField('type', StringType(), True),\n",
    "        StructField('nonInteractionHit', StringType(), True),])\n",
    "\n",
    "    _df = _df.withColumn('data', f.from_json(f.col('data'), _schema)).select(['event_id', 'event_fingerprint'] + ['data.'+column.name for column in _schema])\n",
    "    \n",
    "    _df = _df.withColumnRenamed('type', 'hit_type')\n",
    "    _df = _df.withColumnRenamed('nonInteractionHit', 'non_interaction_hit')\n",
    "\n",
    "    ue_df = ue_df.join(_df, ['event_id', 'event_fingerprint'], how='left')\n",
    "else:\n",
    "    ue_df = ue_df.withColumn('hit_type', f.lit(None).cast(StringType()))\n",
    "    ue_df = ue_df.withColumn('non_interaction_hit', f.lit(None).cast(StringType()))"
   ]
  },
  {
   "cell_type": "code",
   "execution_count": 23,
   "metadata": {},
   "outputs": [
    {
     "data": {
      "application/vnd.jupyter.widget-view+json": {
       "model_id": "2cbc524c6f054e62b1920e3523b6f04c",
       "version_major": 2,
       "version_minor": 0
      },
      "text/plain": [
       "FloatProgress(value=0.0, bar_style='info', description='Progress:', layout=Layout(height='25px', width='50%'),…"
      ]
     },
     "metadata": {},
     "output_type": "display_data"
    }
   ],
   "source": [
    "# PAGE_VIEW: com.google.analytics.measurement-protocol/page_view/jsonschema/1-0-0\n",
    "\n",
    "schema_name = 'iglu:com.google.analytics.measurement-protocol/page_view/jsonschema/1-0-0'\n",
    "\n",
    "if schema_name in contexts_df_by_schemas:\n",
    "    _df = contexts_df_by_schemas[schema_name]\n",
    "    _schema = StructType([\n",
    "        StructField('documentLocationUrl', StringType(), True),\n",
    "        StructField('documentHostName', StringType(), True),\n",
    "        StructField('documentPath', StringType(), True),\n",
    "        StructField('documentTitle', StringType(), True),])\n",
    "\n",
    "    _df = _df.withColumn('data', f.from_json(f.col('data'), _schema)).select(['event_id', 'event_fingerprint'] + ['data.'+column.name for column in _schema])\n",
    "    \n",
    "    _df = _df.withColumnRenamed('documentLocationUrl', '_document_location_url')\n",
    "    _df = _df.withColumnRenamed('documentHostName', '_document_host_name')\n",
    "    _df = _df.withColumnRenamed('documentPath', '_document_path')\n",
    "    _df = _df.withColumnRenamed('documentTitle', '_document_title')\n",
    "    \n",
    "    ue_df = ue_df.join(_df, ['event_id', 'event_fingerprint'], how='left')\n",
    "    ue_df = ue_df.withColumn('document_location_url', f.coalesce(f.col('document_location_url'), f.col('_document_location_url')))\n",
    "    ue_df = ue_df.withColumn('document_host_name', f.coalesce(f.col('document_host_name'), f.col('_document_host_name')))\n",
    "    ue_df = ue_df.withColumn('document_path', f.coalesce(f.col('document_path'), f.col('_document_path')))\n",
    "    ue_df = ue_df.withColumn('document_title', f.coalesce(f.col('document_title'), f.col('_document_title')))\n",
    "    ue_df = ue_df.drop('_document_location_url', '_document_host_name', '_document_path', '_document_title')"
   ]
  },
  {
   "cell_type": "code",
   "execution_count": 24,
   "metadata": {},
   "outputs": [
    {
     "data": {
      "application/vnd.jupyter.widget-view+json": {
       "model_id": "2cbec32847b8425db19b2bccd4def78a",
       "version_major": 2,
       "version_minor": 0
      },
      "text/plain": [
       "FloatProgress(value=0.0, bar_style='info', description='Progress:', layout=Layout(height='25px', width='50%'),…"
      ]
     },
     "metadata": {},
     "output_type": "display_data"
    }
   ],
   "source": [
    "# APP: com.google.analytics.measurement-protocol/app/jsonschema/1-0-0\n",
    "\n",
    "schema_name = 'iglu:com.google.analytics.measurement-protocol/app/jsonschema/1-0-0'\n",
    "\n",
    "if schema_name in contexts_df_by_schemas:\n",
    "    _df = contexts_df_by_schemas[schema_name]\n",
    "    _schema = StructType([\n",
    "        StructField('name', StringType(), True),\n",
    "        StructField('id', StringType(), True),\n",
    "        StructField('version', StringType(), True),\n",
    "        StructField('installerId', StringType(), True),])\n",
    "\n",
    "    _df = _df.withColumn('data', f.from_json(f.col('data'), _schema)).select(['event_id', 'event_fingerprint'] + ['data.'+column.name for column in _schema])\n",
    "    \n",
    "    _df = _df.withColumnRenamed('name', 'app_name')\n",
    "    _df = _df.withColumnRenamed('id', 'app_id')\n",
    "    _df = _df.withColumnRenamed('version', 'app_version')\n",
    "    _df = _df.withColumnRenamed('installerId', 'app_installer_id')\n",
    "\n",
    "    ue_df = ue_df.join(_df, ['event_id', 'event_fingerprint'], how='left')\n",
    "else:\n",
    "    ue_df = ue_df.withColumn('app_name', f.lit(None).cast(StringType()))\n",
    "    ue_df = ue_df.withColumn('app_id', f.lit(None).cast(StringType()))\n",
    "    ue_df = ue_df.withColumn('app_version', f.lit(None).cast(StringType()))\n",
    "    ue_df = ue_df.withColumn('app_installer_id', f.lit(None).cast(StringType()))"
   ]
  },
  {
   "cell_type": "code",
   "execution_count": 25,
   "metadata": {},
   "outputs": [
    {
     "data": {
      "application/vnd.jupyter.widget-view+json": {
       "model_id": "021c4d1f557346d0ba420fe5c57cc597",
       "version_major": 2,
       "version_minor": 0
      },
      "text/plain": [
       "FloatProgress(value=0.0, bar_style='info', description='Progress:', layout=Layout(height='25px', width='50%'),…"
      ]
     },
     "metadata": {},
     "output_type": "display_data"
    }
   ],
   "source": [
    "# com.google.analytics.measurement-protocol/content_experiment/jsonschema/1-0-0\n",
    "\n",
    "schema_name = 'iglu:com.google.analytics.measurement-protocol/content_experiment/jsonschema/1-0-0'\n",
    "\n",
    "if schema_name in contexts_df_by_schemas:\n",
    "    _df = contexts_df_by_schemas[schema_name]\n",
    "    _schema = StructType([\n",
    "        StructField('id', StringType(), True),\n",
    "        StructField('variant', StringType(), True),])\n",
    "\n",
    "    _df = _df.withColumn('data', f.from_json(f.col('data'), _schema)).select(['event_id', 'event_fingerprint'] + ['data.'+column.name for column in _schema])\n",
    "    \n",
    "    _df = _df.withColumnRenamed('id', 'exp_id')\n",
    "    _df = _df.withColumnRenamed('variant', 'exp_variant')\n",
    "\n",
    "    ue_df = ue_df.join(_df, ['event_id', 'event_fingerprint'], how='left')\n",
    "else:\n",
    "    ue_df = ue_df.withColumn('exp_id', f.lit(None).cast(StringType()))\n",
    "    ue_df = ue_df.withColumn('exp_variant', f.lit(None).cast(StringType()))"
   ]
  },
  {
   "cell_type": "code",
   "execution_count": 26,
   "metadata": {},
   "outputs": [
    {
     "data": {
      "application/vnd.jupyter.widget-view+json": {
       "model_id": "5a7f13bc6851446c9df4af0c5b9fa894",
       "version_major": 2,
       "version_minor": 0
      },
      "text/plain": [
       "FloatProgress(value=0.0, bar_style='info', description='Progress:', layout=Layout(height='25px', width='50%'),…"
      ]
     },
     "metadata": {},
     "output_type": "display_data"
    }
   ],
   "source": [
    "# CUSTOM_DIMENSION: com.google.analytics.measurement-protocol/custom_dimension/jsonschema/1-0-0\n",
    "\n",
    "schema_name = 'iglu:com.google.analytics.measurement-protocol/custom_dimension/jsonschema/1-0-0'\n",
    "\n",
    "if schema_name in contexts_df_by_schemas:\n",
    "    _df = contexts_df_by_schemas[schema_name]\n",
    "    _schema = StructType([\n",
    "        StructField('index', StringType(), True),\n",
    "        StructField('value', StringType(), True),])\n",
    "    \n",
    "    _df = _df.withColumn('data', f.from_json(f.col('data'), _schema)).select(['event_id', 'event_fingerprint'] + ['data.'+column.name for column in _schema]) \\\n",
    "             .withColumn('index', f.concat_ws('_', f.lit('custom_dimension'), f.col('index'))) \\\n",
    "             .groupby('event_id', 'event_fingerprint').pivot('index').agg(f.first('value'))\n",
    "\n",
    "    ue_df = ue_df.join(_df, ['event_id', 'event_fingerprint'], how='left')\n",
    "    \n",
    "for i in range(1, 11):\n",
    "    if f'custom_dimension_{i}' not in ue_df.columns:\n",
    "        ue_df = ue_df.withColumn(f'custom_dimension_{i}', f.lit(None).cast(StringType()))\n",
    "\n",
    "\n"
   ]
  },
  {
   "cell_type": "code",
   "execution_count": 27,
   "metadata": {},
   "outputs": [
    {
     "data": {
      "application/vnd.jupyter.widget-view+json": {
       "model_id": "cf86669abb55496dbcfb0d2ff2d2081e",
       "version_major": 2,
       "version_minor": 0
      },
      "text/plain": [
       "FloatProgress(value=0.0, bar_style='info', description='Progress:', layout=Layout(height='25px', width='50%'),…"
      ]
     },
     "metadata": {},
     "output_type": "display_data"
    }
   ],
   "source": [
    "# CUSTOM_METRIC: com.google.analytics.measurement-protocol/custom_metric/jsonschema/1-0-0\n",
    "\n",
    "schema_name = 'iglu:com.google.analytics.measurement-protocol/custom_metric/jsonschema/1-0-0'\n",
    "\n",
    "if schema_name in contexts_df_by_schemas:\n",
    "    _df = contexts_df_by_schemas[schema_name]\n",
    "    _schema = StructType([\n",
    "        StructField('index', StringType(), True),\n",
    "        StructField('value', StringType(), True),])\n",
    "    \n",
    "    _df = _df.withColumn('data', f.from_json(f.col('data'), _schema)).select(['event_id', 'event_fingerprint'] + ['data.'+column.name for column in _schema]) \\\n",
    "             .withColumn('index', f.concat_ws('_', f.lit('custom_metric'), f.col('index'))) \\\n",
    "             .groupby('event_id', 'event_fingerprint').pivot('index').agg(f.first('value'))\n",
    "\n",
    "    ue_df = ue_df.join(_df, ['event_id', 'event_fingerprint'], how='left')\n",
    "    \n",
    "for i in range(1, 11):\n",
    "    if f'custom_metric_{i}' not in ue_df.columns:\n",
    "        ue_df = ue_df.withColumn(f'custom_metric_{i}', f.lit(None).cast(StringType()))\n",
    "\n"
   ]
  },
  {
   "cell_type": "code",
   "execution_count": 28,
   "metadata": {},
   "outputs": [
    {
     "data": {
      "application/vnd.jupyter.widget-view+json": {
       "model_id": "c990374a8ef041ce98278e19077a0752",
       "version_major": 2,
       "version_minor": 0
      },
      "text/plain": [
       "FloatProgress(value=0.0, bar_style='info', description='Progress:', layout=Layout(height='25px', width='50%'),…"
      ]
     },
     "metadata": {},
     "output_type": "display_data"
    }
   ],
   "source": [
    "schema_derived_contexts = StructType(\n",
    "    [\n",
    "        StructField('schema', StringType(), True),\n",
    "        StructField('data', ArrayType(StringType()), True)\n",
    "    ]\n",
    ")\n",
    "\n",
    "schema_derived_contexts_data = StructType(\n",
    "    [\n",
    "        StructField('schema', StringType(), True),\n",
    "        StructField('data', StringType(), True)\n",
    "    ]\n",
    ")"
   ]
  },
  {
   "cell_type": "code",
   "execution_count": 29,
   "metadata": {},
   "outputs": [
    {
     "data": {
      "application/vnd.jupyter.widget-view+json": {
       "model_id": "c651875919f442ee80b336914507dd2f",
       "version_major": 2,
       "version_minor": 0
      },
      "text/plain": [
       "FloatProgress(value=0.0, bar_style='info', description='Progress:', layout=Layout(height='25px', width='50%'),…"
      ]
     },
     "metadata": {},
     "output_type": "display_data"
    }
   ],
   "source": [
    "# Get contexts_df from events\n",
    "derived_contexts_df = ga_df.withColumn('derived_contexts_json', f.from_json(f.col('derived_contexts'), schema_derived_contexts)).select('event_id', 'event_fingerprint', 'derived_contexts', 'derived_contexts_json')\n",
    "derived_contexts_df = derived_contexts_df.select('event_id', 'event_fingerprint', f.explode('derived_contexts_json.data').alias('datum')).withColumn('datum', f.from_json(f.col('datum'), schema_derived_contexts_data)).select('event_id', 'event_fingerprint', 'datum.schema', 'datum.data')\n",
    "\n",
    "derived_contexts_df.cache()\n",
    "\n",
    "# Split them based on its schema\n",
    "derived_contexts_df_by_schemas = {schema[0] : derived_contexts_df.filter(f.col('schema') == schema[0]).drop('schema') for schema in derived_contexts_df.select('schema').distinct().collect()}"
   ]
  },
  {
   "cell_type": "code",
   "execution_count": 30,
   "metadata": {},
   "outputs": [
    {
     "data": {
      "application/vnd.jupyter.widget-view+json": {
       "model_id": "9bec5d0579a44fecbb842a8af5525853",
       "version_major": 2,
       "version_minor": 0
      },
      "text/plain": [
       "FloatProgress(value=0.0, bar_style='info', description='Progress:', layout=Layout(height='25px', width='50%'),…"
      ]
     },
     "metadata": {},
     "output_type": "display_data"
    }
   ],
   "source": [
    "# UA_PARSER_CONTEXT: com.google.analytics.measurement-protocol/hit/jsonschema/1-0-0\n",
    "\n",
    "schema_name = 'iglu:com.snowplowanalytics.snowplow/ua_parser_context/jsonschema/1-0-0'\n",
    "\n",
    "if schema_name in derived_contexts_df_by_schemas:\n",
    "    _df = derived_contexts_df_by_schemas[schema_name]\n",
    "    _schema = StructType([\n",
    "        StructField('useragentFamily', StringType(), True),\n",
    "        StructField('useragentMajor', StringType(), True),\n",
    "        StructField('useragentMinor', StringType(), True),\n",
    "        StructField('useragentPatch', StringType(), True),\n",
    "        StructField('useragentVersion', StringType(), True),\n",
    "        StructField('osFamily', StringType(), True),\n",
    "        StructField('osMajor', StringType(), True),\n",
    "        StructField('osMinor', StringType(), True),\n",
    "        StructField('osPatch', StringType(), True),\n",
    "        StructField('osPatchMinor', StringType(), True),\n",
    "        StructField('osVersion', StringType(), True),\n",
    "        StructField('deviceFamily', StringType(), True),])\n",
    "\n",
    "    _df = _df.withColumn('data', f.from_json(f.col('data'), _schema)).select(['event_id', 'event_fingerprint'] + ['data.'+column.name for column in _schema])\n",
    "    \n",
    "    _df = _df.withColumnRenamed('useragentFamily', 'useragent_family')\n",
    "    _df = _df.withColumnRenamed('useragentMajor', 'useragent_major')\n",
    "    _df = _df.withColumnRenamed('useragentMinor', 'useragent_minor')\n",
    "    _df = _df.withColumnRenamed('useragentPatch', 'useragent_patch')\n",
    "    _df = _df.withColumnRenamed('useragentVersion', 'useragent_version')\n",
    "    _df = _df.withColumnRenamed('osFamily', 'os_family')\n",
    "    _df = _df.withColumnRenamed('osMajor', 'os_major')\n",
    "    _df = _df.withColumnRenamed('osMinor', 'os_minor')\n",
    "    _df = _df.withColumnRenamed('osPatch', 'os_patch')\n",
    "    _df = _df.withColumnRenamed('osPatchMinor', 'os_patch_minor')\n",
    "    _df = _df.withColumnRenamed('osVersion', 'os_version')\n",
    "    _df = _df.withColumnRenamed('deviceFamily', 'device_family')\n",
    "    \n",
    "    ue_df = ue_df.join(_df, ['event_id', 'event_fingerprint'], how='left')\n",
    "else:\n",
    "    ue_df = ue_df.withColumn('useragent_family', f.lit(None).cast(StringType()))\n",
    "    ue_df = ue_df.withColumn('useragent_major', f.lit(None).cast(StringType()))\n",
    "    ue_df = ue_df.withColumn('useragent_minor', f.lit(None).cast(StringType()))\n",
    "    ue_df = ue_df.withColumn('useragent_patch', f.lit(None).cast(StringType()))\n",
    "    ue_df = ue_df.withColumn('useragent_version', f.lit(None).cast(StringType()))\n",
    "    ue_df = ue_df.withColumn('os_family', f.lit(None).cast(StringType()))\n",
    "    ue_df = ue_df.withColumn('os_major', f.lit(None).cast(StringType()))\n",
    "    ue_df = ue_df.withColumn('os_minor', f.lit(None).cast(StringType()))\n",
    "    ue_df = ue_df.withColumn('os_patch', f.lit(None).cast(StringType()))\n",
    "    ue_df = ue_df.withColumn('os_patch_minor', f.lit(None).cast(StringType()))\n",
    "    ue_df = ue_df.withColumn('os_version', f.lit(None).cast(StringType()))\n",
    "    ue_df = ue_df.withColumn('device_family', f.lit(None).cast(StringType()))"
   ]
  },
  {
   "cell_type": "code",
   "execution_count": 31,
   "metadata": {},
   "outputs": [
    {
     "data": {
      "application/vnd.jupyter.widget-view+json": {
       "model_id": "cdfba06d107f46b58c640464e2d20c1e",
       "version_major": 2,
       "version_minor": 0
      },
      "text/plain": [
       "FloatProgress(value=0.0, bar_style='info', description='Progress:', layout=Layout(height='25px', width='50%'),…"
      ]
     },
     "metadata": {},
     "output_type": "display_data"
    }
   ],
   "source": [
    "ue_df.filter(f.col('document_title')=='Klip App').write.parquet('s3://gx-data-staging-dev/klip/atomic_events', partitionBy=['event_type_ga', 'event_date', 'event_hour', 'loaded_date', 'loaded_hour'], mode='append')"
   ]
  },
  {
   "cell_type": "code",
   "execution_count": 32,
   "metadata": {},
   "outputs": [
    {
     "data": {
      "application/vnd.jupyter.widget-view+json": {
       "model_id": "3895a9b0f8fa476f9a13c3105e5e74b1",
       "version_major": 2,
       "version_minor": 0
      },
      "text/plain": [
       "FloatProgress(value=0.0, bar_style='info', description='Progress:', layout=Layout(height='25px', width='50%'),…"
      ]
     },
     "metadata": {},
     "output_type": "display_data"
    }
   ],
   "source": [
    "ue_df.filter((f.col('document_title')=='Kaikas') | (f.col('document_title')=='Kaikas Notification')).write.parquet('s3://gx-data-staging-dev/kaikas/atomic_events', partitionBy=['event_type_ga', 'event_date', 'event_hour', 'loaded_date', 'loaded_hour'], mode='append')"
   ]
  },
  {
   "cell_type": "code",
   "execution_count": null,
   "metadata": {},
   "outputs": [],
   "source": []
  }
 ],
 "metadata": {
  "kernelspec": {
   "display_name": "Sparkmagic (PySpark)",
   "language": "",
   "name": "pysparkkernel"
  },
  "language_info": {
   "codemirror_mode": {
    "name": "python",
    "version": 3
   },
   "mimetype": "text/x-python",
   "name": "pyspark",
   "pygments_lexer": "python3"
  }
 },
 "nbformat": 4,
 "nbformat_minor": 4
}
